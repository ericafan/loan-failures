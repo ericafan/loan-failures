{
 "cells": [
  {
   "cell_type": "markdown",
   "metadata": {},
   "source": [
    "# Predicting Lending Club loan defaults with Decision Trees"
   ]
  },
  {
   "cell_type": "code",
   "execution_count": 1,
   "metadata": {},
   "outputs": [],
   "source": [
    "import numpy as np\n",
    "import pandas as pd\n",
    "import matplotlib.pyplot as plt\n",
    "import seaborn as sns\n",
    "\n",
    "from sklearn.preprocessing import LabelEncoder\n",
    "from sklearn.model_selection import train_test_split\n",
    "from sklearn.tree import DecisionTreeClassifier\n",
    "from sklearn.metrics import confusion_matrix, ConfusionMatrixDisplay\n",
    "\n",
    "%matplotlib inline"
   ]
  },
  {
   "cell_type": "code",
   "execution_count": 2,
   "metadata": {
    "scrolled": true
   },
   "outputs": [],
   "source": [
    "df = pd.read_csv('lendingclub.csv')"
   ]
  },
  {
   "cell_type": "markdown",
   "metadata": {},
   "source": [
    "## Exploratory Data Analysis"
   ]
  },
  {
   "cell_type": "markdown",
   "metadata": {},
   "source": [
    "### Variable identification"
   ]
  },
  {
   "cell_type": "code",
   "execution_count": 3,
   "metadata": {
    "scrolled": false
   },
   "outputs": [
    {
     "data": {
      "text/html": [
       "<div>\n",
       "<style scoped>\n",
       "    .dataframe tbody tr th:only-of-type {\n",
       "        vertical-align: middle;\n",
       "    }\n",
       "\n",
       "    .dataframe tbody tr th {\n",
       "        vertical-align: top;\n",
       "    }\n",
       "\n",
       "    .dataframe thead th {\n",
       "        text-align: right;\n",
       "    }\n",
       "</style>\n",
       "<table border=\"1\" class=\"dataframe\">\n",
       "  <thead>\n",
       "    <tr style=\"text-align: right;\">\n",
       "      <th></th>\n",
       "      <th>loan_number</th>\n",
       "      <th>amount_borrowed</th>\n",
       "      <th>term</th>\n",
       "      <th>borrower_rate</th>\n",
       "      <th>installment</th>\n",
       "      <th>grade</th>\n",
       "      <th>origination_date</th>\n",
       "      <th>listing_title</th>\n",
       "      <th>loan_status_description</th>\n",
       "      <th>data_source</th>\n",
       "    </tr>\n",
       "  </thead>\n",
       "  <tbody>\n",
       "    <tr>\n",
       "      <th>0</th>\n",
       "      <td>10149342</td>\n",
       "      <td>27050.0</td>\n",
       "      <td>36</td>\n",
       "      <td>0.1099</td>\n",
       "      <td>885.46</td>\n",
       "      <td>B</td>\n",
       "      <td>2013-12-01</td>\n",
       "      <td>debt_consolidation</td>\n",
       "      <td>COMPLETED</td>\n",
       "      <td>Lending Club</td>\n",
       "    </tr>\n",
       "    <tr>\n",
       "      <th>1</th>\n",
       "      <td>10149488</td>\n",
       "      <td>4800.0</td>\n",
       "      <td>36</td>\n",
       "      <td>0.1099</td>\n",
       "      <td>157.13</td>\n",
       "      <td>B</td>\n",
       "      <td>2013-12-01</td>\n",
       "      <td>home_improvement</td>\n",
       "      <td>COMPLETED</td>\n",
       "      <td>Lending Club</td>\n",
       "    </tr>\n",
       "    <tr>\n",
       "      <th>2</th>\n",
       "      <td>10148122</td>\n",
       "      <td>12000.0</td>\n",
       "      <td>36</td>\n",
       "      <td>0.0762</td>\n",
       "      <td>373.94</td>\n",
       "      <td>A</td>\n",
       "      <td>2013-12-01</td>\n",
       "      <td>debt_consolidation</td>\n",
       "      <td>COMPLETED</td>\n",
       "      <td>Lending Club</td>\n",
       "    </tr>\n",
       "    <tr>\n",
       "      <th>3</th>\n",
       "      <td>10119623</td>\n",
       "      <td>12000.0</td>\n",
       "      <td>36</td>\n",
       "      <td>0.1199</td>\n",
       "      <td>398.52</td>\n",
       "      <td>B</td>\n",
       "      <td>2013-12-01</td>\n",
       "      <td>debt_consolidation</td>\n",
       "      <td>COMPLETED</td>\n",
       "      <td>Lending Club</td>\n",
       "    </tr>\n",
       "    <tr>\n",
       "      <th>4</th>\n",
       "      <td>10159498</td>\n",
       "      <td>12000.0</td>\n",
       "      <td>36</td>\n",
       "      <td>0.0662</td>\n",
       "      <td>368.45</td>\n",
       "      <td>A</td>\n",
       "      <td>2013-12-01</td>\n",
       "      <td>debt_consolidation</td>\n",
       "      <td>COMPLETED</td>\n",
       "      <td>Lending Club</td>\n",
       "    </tr>\n",
       "  </tbody>\n",
       "</table>\n",
       "</div>"
      ],
      "text/plain": [
       "   loan_number  amount_borrowed  term  borrower_rate  installment grade  \\\n",
       "0     10149342          27050.0    36         0.1099       885.46     B   \n",
       "1     10149488           4800.0    36         0.1099       157.13     B   \n",
       "2     10148122          12000.0    36         0.0762       373.94     A   \n",
       "3     10119623          12000.0    36         0.1199       398.52     B   \n",
       "4     10159498          12000.0    36         0.0662       368.45     A   \n",
       "\n",
       "  origination_date       listing_title loan_status_description   data_source  \n",
       "0       2013-12-01  debt_consolidation               COMPLETED  Lending Club  \n",
       "1       2013-12-01    home_improvement               COMPLETED  Lending Club  \n",
       "2       2013-12-01  debt_consolidation               COMPLETED  Lending Club  \n",
       "3       2013-12-01  debt_consolidation               COMPLETED  Lending Club  \n",
       "4       2013-12-01  debt_consolidation               COMPLETED  Lending Club  "
      ]
     },
     "execution_count": 3,
     "metadata": {},
     "output_type": "execute_result"
    }
   ],
   "source": [
    "df.head()"
   ]
  },
  {
   "cell_type": "code",
   "execution_count": 4,
   "metadata": {},
   "outputs": [
    {
     "data": {
      "text/html": [
       "<div>\n",
       "<style scoped>\n",
       "    .dataframe tbody tr th:only-of-type {\n",
       "        vertical-align: middle;\n",
       "    }\n",
       "\n",
       "    .dataframe tbody tr th {\n",
       "        vertical-align: top;\n",
       "    }\n",
       "\n",
       "    .dataframe thead th {\n",
       "        text-align: right;\n",
       "    }\n",
       "</style>\n",
       "<table border=\"1\" class=\"dataframe\">\n",
       "  <thead>\n",
       "    <tr style=\"text-align: right;\">\n",
       "      <th></th>\n",
       "      <th>loan_number</th>\n",
       "      <th>amount_borrowed</th>\n",
       "      <th>term</th>\n",
       "      <th>borrower_rate</th>\n",
       "      <th>installment</th>\n",
       "      <th>grade</th>\n",
       "      <th>origination_date</th>\n",
       "      <th>listing_title</th>\n",
       "      <th>loan_status_description</th>\n",
       "      <th>data_source</th>\n",
       "    </tr>\n",
       "  </thead>\n",
       "  <tbody>\n",
       "    <tr>\n",
       "      <th>1961522</th>\n",
       "      <td>130135401</td>\n",
       "      <td>12000.0</td>\n",
       "      <td>36</td>\n",
       "      <td>0.1198</td>\n",
       "      <td>398.46</td>\n",
       "      <td>B</td>\n",
       "      <td>2018-04-01</td>\n",
       "      <td>major_purchase</td>\n",
       "      <td>CURRENT</td>\n",
       "      <td>Lending Club</td>\n",
       "    </tr>\n",
       "    <tr>\n",
       "      <th>1961523</th>\n",
       "      <td>129961614</td>\n",
       "      <td>3000.0</td>\n",
       "      <td>36</td>\n",
       "      <td>0.2039</td>\n",
       "      <td>112.09</td>\n",
       "      <td>D</td>\n",
       "      <td>2018-04-01</td>\n",
       "      <td>other</td>\n",
       "      <td>CURRENT</td>\n",
       "      <td>Lending Club</td>\n",
       "    </tr>\n",
       "    <tr>\n",
       "      <th>1961524</th>\n",
       "      <td>130056422</td>\n",
       "      <td>14000.0</td>\n",
       "      <td>36</td>\n",
       "      <td>0.1601</td>\n",
       "      <td>492.27</td>\n",
       "      <td>C</td>\n",
       "      <td>2018-04-01</td>\n",
       "      <td>debt_consolidation</td>\n",
       "      <td>CURRENT</td>\n",
       "      <td>Lending Club</td>\n",
       "    </tr>\n",
       "    <tr>\n",
       "      <th>1961525</th>\n",
       "      <td>130065381</td>\n",
       "      <td>7500.0</td>\n",
       "      <td>36</td>\n",
       "      <td>0.1090</td>\n",
       "      <td>245.19</td>\n",
       "      <td>B</td>\n",
       "      <td>2018-04-01</td>\n",
       "      <td>other</td>\n",
       "      <td>CURRENT</td>\n",
       "      <td>Lending Club</td>\n",
       "    </tr>\n",
       "    <tr>\n",
       "      <th>1961526</th>\n",
       "      <td>129555354</td>\n",
       "      <td>35000.0</td>\n",
       "      <td>36</td>\n",
       "      <td>0.0607</td>\n",
       "      <td>1065.88</td>\n",
       "      <td>A</td>\n",
       "      <td>2018-04-01</td>\n",
       "      <td>debt_consolidation</td>\n",
       "      <td>CURRENT</td>\n",
       "      <td>Lending Club</td>\n",
       "    </tr>\n",
       "  </tbody>\n",
       "</table>\n",
       "</div>"
      ],
      "text/plain": [
       "         loan_number  amount_borrowed  term  borrower_rate  installment grade  \\\n",
       "1961522    130135401          12000.0    36         0.1198       398.46     B   \n",
       "1961523    129961614           3000.0    36         0.2039       112.09     D   \n",
       "1961524    130056422          14000.0    36         0.1601       492.27     C   \n",
       "1961525    130065381           7500.0    36         0.1090       245.19     B   \n",
       "1961526    129555354          35000.0    36         0.0607      1065.88     A   \n",
       "\n",
       "        origination_date       listing_title loan_status_description  \\\n",
       "1961522       2018-04-01      major_purchase                 CURRENT   \n",
       "1961523       2018-04-01               other                 CURRENT   \n",
       "1961524       2018-04-01  debt_consolidation                 CURRENT   \n",
       "1961525       2018-04-01               other                 CURRENT   \n",
       "1961526       2018-04-01  debt_consolidation                 CURRENT   \n",
       "\n",
       "          data_source  \n",
       "1961522  Lending Club  \n",
       "1961523  Lending Club  \n",
       "1961524  Lending Club  \n",
       "1961525  Lending Club  \n",
       "1961526  Lending Club  "
      ]
     },
     "execution_count": 4,
     "metadata": {},
     "output_type": "execute_result"
    }
   ],
   "source": [
    "df.tail()"
   ]
  },
  {
   "cell_type": "code",
   "execution_count": 9,
   "metadata": {},
   "outputs": [
    {
     "data": {
      "text/plain": [
       "(1961527, 10)"
      ]
     },
     "execution_count": 9,
     "metadata": {},
     "output_type": "execute_result"
    }
   ],
   "source": [
    "df.shape"
   ]
  },
  {
   "cell_type": "code",
   "execution_count": 6,
   "metadata": {
    "scrolled": false
   },
   "outputs": [
    {
     "data": {
      "text/plain": [
       "Index(['loan_number', 'amount_borrowed', 'term', 'borrower_rate',\n",
       "       'installment', 'grade', 'origination_date', 'listing_title',\n",
       "       'loan_status_description', 'data_source'],\n",
       "      dtype='object')"
      ]
     },
     "execution_count": 6,
     "metadata": {},
     "output_type": "execute_result"
    }
   ],
   "source": [
    "df.columns"
   ]
  },
  {
   "cell_type": "code",
   "execution_count": 64,
   "metadata": {},
   "outputs": [
    {
     "name": "stdout",
     "output_type": "stream",
     "text": [
      "<class 'pandas.core.frame.DataFrame'>\n",
      "RangeIndex: 1961527 entries, 0 to 1961526\n",
      "Data columns (total 10 columns):\n",
      " #   Column                   Dtype         \n",
      "---  ------                   -----         \n",
      " 0   loan_number              int64         \n",
      " 1   amount_borrowed          float64       \n",
      " 2   term                     int64         \n",
      " 3   borrower_rate            float64       \n",
      " 4   installment              float64       \n",
      " 5   grade                    object        \n",
      " 6   origination_date         datetime64[ns]\n",
      " 7   listing_title            object        \n",
      " 8   loan_status_description  object        \n",
      " 9   data_source              object        \n",
      "dtypes: datetime64[ns](1), float64(3), int64(2), object(4)\n",
      "memory usage: 149.7+ MB\n"
     ]
    }
   ],
   "source": [
    "df.info()"
   ]
  },
  {
   "cell_type": "markdown",
   "metadata": {},
   "source": [
    "### Univariate Analysis"
   ]
  },
  {
   "cell_type": "code",
   "execution_count": 7,
   "metadata": {},
   "outputs": [
    {
     "data": {
      "text/plain": [
       "loan_number                1961527\n",
       "amount_borrowed               1561\n",
       "term                             2\n",
       "borrower_rate                  356\n",
       "installment                  88231\n",
       "grade                            7\n",
       "origination_date                78\n",
       "listing_title                   14\n",
       "loan_status_description          4\n",
       "data_source                      1\n",
       "dtype: int64"
      ]
     },
     "execution_count": 7,
     "metadata": {},
     "output_type": "execute_result"
    }
   ],
   "source": [
    "df.nunique()"
   ]
  },
  {
   "cell_type": "markdown",
   "metadata": {},
   "source": [
    "Target: `loan_status_description`\n",
    "\n",
    "- `loan_number` has the same number of unique values as the number of rows, so there are no duplicate records.\n",
    "- The following can most likely be considered **categorical variables:** term, grade, listing_title\n",
    "- The following variables can be dropped: loan_number, data_source\n",
    "- origination_date can also be ignored for now, but it may be useful in the future for time series analysis or computing age, season, etc."
   ]
  },
  {
   "cell_type": "markdown",
   "metadata": {},
   "source": [
    "#### Categorical Variables"
   ]
  },
  {
   "cell_type": "code",
   "execution_count": 14,
   "metadata": {
    "scrolled": true
   },
   "outputs": [
    {
     "name": "stderr",
     "output_type": "stream",
     "text": [
      "C:\\ProgramData\\anaconda3\\Lib\\site-packages\\seaborn\\axisgrid.py:118: UserWarning: The figure layout has changed to tight\n",
      "  self._figure.tight_layout(*args, **kwargs)\n"
     ]
    },
    {
     "data": {
      "text/plain": [
       "<seaborn.axisgrid.FacetGrid at 0x1a5b97f2350>"
      ]
     },
     "execution_count": 14,
     "metadata": {},
     "output_type": "execute_result"
    },
    {
     "data": {
      "image/png": "[encoded data removed]",
      "text/plain": [
       "<Figure size 500x500 with 1 Axes>"
      ]
     },
     "metadata": {},
     "output_type": "display_data"
    }
   ],
   "source": [
    "sns.displot(df['loan_status_description'])"
   ]
  },
  {
   "cell_type": "code",
   "execution_count": 28,
   "metadata": {},
   "outputs": [
    {
     "name": "stdout",
     "output_type": "stream",
     "text": [
      "1278 loans, or 0.06515332187627292% of loans have status DEFAULTED\n"
     ]
    }
   ],
   "source": [
    "print(\n",
    "    str(len(df[df['loan_status_description'] == 'DEFAULTED'])) + \" loans, or \" +\n",
    "    str(len(df[df['loan_status_description'] == 'DEFAULTED']) / df.shape[0] * 100) + \n",
    "    \"% of loans have status DEFAULTED\")"
   ]
  },
  {
   "cell_type": "code",
   "execution_count": 13,
   "metadata": {
    "scrolled": false
   },
   "outputs": [
    {
     "data": {
      "text/plain": [
       "term\n",
       "36    1400467\n",
       "60     561060\n",
       "Name: loan_number, dtype: int64"
      ]
     },
     "execution_count": 13,
     "metadata": {},
     "output_type": "execute_result"
    }
   ],
   "source": [
    "df['term']\n",
    "df.groupby('term')['loan_number'].count()"
   ]
  },
  {
   "cell_type": "code",
   "execution_count": 11,
   "metadata": {
    "scrolled": true
   },
   "outputs": [
    {
     "name": "stderr",
     "output_type": "stream",
     "text": [
      "C:\\ProgramData\\anaconda3\\Lib\\site-packages\\seaborn\\axisgrid.py:118: UserWarning: The figure layout has changed to tight\n",
      "  self._figure.tight_layout(*args, **kwargs)\n"
     ]
    },
    {
     "data": {
      "text/plain": [
       "<seaborn.axisgrid.FacetGrid at 0x1a5b8bba650>"
      ]
     },
     "execution_count": 11,
     "metadata": {},
     "output_type": "execute_result"
    },
    {
     "data": {
      "image/png": "[encoded data removed]",
      "text/plain": [
       "<Figure size 500x500 with 1 Axes>"
      ]
     },
     "metadata": {},
     "output_type": "display_data"
    }
   ],
   "source": [
    "sns.displot(df['term'], bins = 2)"
   ]
  },
  {
   "cell_type": "code",
   "execution_count": 4,
   "metadata": {
    "scrolled": false
   },
   "outputs": [
    {
     "data": {
      "text/plain": [
       "<seaborn.axisgrid.FacetGrid at 0x7f399a78b650>"
      ]
     },
     "execution_count": 4,
     "metadata": {},
     "output_type": "execute_result"
    },
    {
     "data": {
      "image/png": "[encoded data removed]",
      "text/plain": [
       "<Figure size 500x500 with 1 Axes>"
      ]
     },
     "metadata": {},
     "output_type": "display_data"
    }
   ],
   "source": [
    "sns.displot(df['grade'], bins = 7)"
   ]
  },
  {
   "cell_type": "code",
   "execution_count": 34,
   "metadata": {
    "scrolled": false
   },
   "outputs": [
    {
     "name": "stderr",
     "output_type": "stream",
     "text": [
      "C:\\ProgramData\\anaconda3\\Lib\\site-packages\\seaborn\\axisgrid.py:118: UserWarning: The figure layout has changed to tight\n",
      "  self._figure.tight_layout(*args, **kwargs)\n"
     ]
    },
    {
     "data": {
      "text/plain": [
       "<seaborn.axisgrid.FacetGrid at 0x1a5c80e6f90>"
      ]
     },
     "execution_count": 34,
     "metadata": {},
     "output_type": "execute_result"
    },
    {
     "data": {
      "image/png": "[encoded data removed]",
      "text/plain": [
       "<Figure size 500x500 with 1 Axes>"
      ]
     },
     "metadata": {},
     "output_type": "display_data"
    }
   ],
   "source": [
    "sns.displot(df['listing_title'], bins = 14).set_xticklabels(rotation=90)"
   ]
  },
  {
   "cell_type": "markdown",
   "metadata": {},
   "source": [
    "#### Quantitative Variables\n",
    "- 'amount_borrowed'\n",
    "- 'borrower_rate'\n",
    "- 'installment'"
   ]
  },
  {
   "cell_type": "code",
   "execution_count": 35,
   "metadata": {
    "scrolled": true
   },
   "outputs": [
    {
     "data": {
      "text/plain": [
       "<Axes: xlabel='amount_borrowed'>"
      ]
     },
     "execution_count": 35,
     "metadata": {},
     "output_type": "execute_result"
    },
    {
     "data": {
      "image/png": "[encoded data removed]",
      "text/plain": [
       "<Figure size 640x480 with 1 Axes>"
      ]
     },
     "metadata": {},
     "output_type": "display_data"
    }
   ],
   "source": [
    "sns.boxplot(x=df['amount_borrowed'])"
   ]
  },
  {
   "cell_type": "code",
   "execution_count": 36,
   "metadata": {
    "scrolled": true
   },
   "outputs": [
    {
     "data": {
      "text/plain": [
       "<Axes: xlabel='borrower_rate'>"
      ]
     },
     "execution_count": 36,
     "metadata": {},
     "output_type": "execute_result"
    },
    {
     "data": {
      "image/png": "[encoded data removed]",
      "text/plain": [
       "<Figure size 640x480 with 1 Axes>"
      ]
     },
     "metadata": {},
     "output_type": "display_data"
    }
   ],
   "source": [
    "sns.boxplot(x=df['borrower_rate'])"
   ]
  },
  {
   "cell_type": "code",
   "execution_count": 37,
   "metadata": {
    "scrolled": true
   },
   "outputs": [
    {
     "data": {
      "text/plain": [
       "<Axes: xlabel='installment'>"
      ]
     },
     "execution_count": 37,
     "metadata": {},
     "output_type": "execute_result"
    },
    {
     "data": {
      "image/png": "[encoded data removed]",
      "text/plain": [
       "<Figure size 640x480 with 1 Axes>"
      ]
     },
     "metadata": {},
     "output_type": "display_data"
    }
   ],
   "source": [
    "sns.boxplot(x=df['installment'])"
   ]
  },
  {
   "cell_type": "markdown",
   "metadata": {},
   "source": [
    "Both `borrower_rate` and `installment` have long right tails (many outliers). Try observing the densities of each of these variables."
   ]
  },
  {
   "cell_type": "code",
   "execution_count": 51,
   "metadata": {
    "scrolled": true
   },
   "outputs": [
    {
     "data": {
      "text/plain": [
       "<Axes: xlabel='installment', ylabel='Count'>"
      ]
     },
     "execution_count": 51,
     "metadata": {},
     "output_type": "execute_result"
    },
    {
     "data": {
      "image/png": "[encoded data removed]",
      "text/plain": [
       "<Figure size 640x480 with 1 Axes>"
      ]
     },
     "metadata": {},
     "output_type": "display_data"
    }
   ],
   "source": [
    "sns.histplot(df['installment'])"
   ]
  },
  {
   "cell_type": "code",
   "execution_count": 52,
   "metadata": {},
   "outputs": [
    {
     "data": {
      "text/plain": [
       "<Axes: xlabel='borrower_rate', ylabel='Count'>"
      ]
     },
     "execution_count": 52,
     "metadata": {},
     "output_type": "execute_result"
    },
    {
     "data": {
      "image/png": "[encoded data removed]",
      "text/plain": [
       "<Figure size 640x480 with 1 Axes>"
      ]
     },
     "metadata": {},
     "output_type": "display_data"
    }
   ],
   "source": [
    "sns.histplot(df['borrower_rate'])"
   ]
  },
  {
   "cell_type": "markdown",
   "metadata": {},
   "source": [
    "### Correlation Analysis"
   ]
  },
  {
   "cell_type": "code",
   "execution_count": 56,
   "metadata": {},
   "outputs": [
    {
     "data": {
      "image/png": "[encoded data removed]",
      "text/plain": [
       "<Figure size 1200x900 with 2 Axes>"
      ]
     },
     "metadata": {},
     "output_type": "display_data"
    }
   ],
   "source": [
    "#correlation matrix\n",
    "corrmat = df.corr(numeric_only=True)\n",
    "f, ax = plt.subplots(figsize=(12, 9))\n",
    "sns.heatmap(corrmat, vmax=.8, square=True);"
   ]
  },
  {
   "cell_type": "code",
   "execution_count": 60,
   "metadata": {},
   "outputs": [
    {
     "data": {
      "text/plain": [
       "0.9464414502291143"
      ]
     },
     "execution_count": 60,
     "metadata": {},
     "output_type": "execute_result"
    }
   ],
   "source": [
    "df['amount_borrowed'].corr(df['installment'])"
   ]
  },
  {
   "cell_type": "markdown",
   "metadata": {},
   "source": [
    "Observations:\n",
    "\n",
    "- There are no negative correlations.\n",
    "- `amount_borrowed` and `installment` are strongly positively correlated (0.946), which makes sense intuitively since installment amounts are directly related to the total balance.\n",
    "- The following are moderately positively correlated: `term` and `amount_borrowed`, `term` and `borrower_rate`. This also makes sense since borrowers often need a longer period of time to pay off loans that have large balances or high borrowing costs.\n",
    "- The remaining pairs have very week positive correlations."
   ]
  },
  {
   "cell_type": "markdown",
   "metadata": {},
   "source": [
    "## Data Cleaning"
   ]
  },
  {
   "cell_type": "markdown",
   "metadata": {},
   "source": [
    "### Missing/Null Data"
   ]
  },
  {
   "cell_type": "code",
   "execution_count": 65,
   "metadata": {
    "scrolled": true
   },
   "outputs": [
    {
     "data": {
      "text/plain": [
       "loan_number                0\n",
       "amount_borrowed            0\n",
       "term                       0\n",
       "borrower_rate              0\n",
       "installment                0\n",
       "grade                      0\n",
       "origination_date           0\n",
       "listing_title              0\n",
       "loan_status_description    0\n",
       "data_source                0\n",
       "dtype: int64"
      ]
     },
     "execution_count": 65,
     "metadata": {},
     "output_type": "execute_result"
    }
   ],
   "source": [
    "df.isnull().sum()"
   ]
  },
  {
   "cell_type": "markdown",
   "metadata": {},
   "source": [
    "### Keep only useful rows"
   ]
  },
  {
   "cell_type": "code",
   "execution_count": 13,
   "metadata": {
    "scrolled": true
   },
   "outputs": [
    {
     "data": {
      "text/plain": [
       "loan_status_description\n",
       "CURRENT      968311\n",
       "COMPLETED    788945\n",
       "CHARGEOFF    202993\n",
       "DEFAULTED      1278\n",
       "Name: count, dtype: int64"
      ]
     },
     "execution_count": 13,
     "metadata": {},
     "output_type": "execute_result"
    }
   ],
   "source": [
    "df['loan_status_description'].value_counts()"
   ]
  },
  {
   "cell_type": "markdown",
   "metadata": {},
   "source": [
    "CURRENT loans may not be useful for model training.\n",
    "For the purposes of predicting \"bad\" loans, CHARGEOFF and DEFAULTED loans can be grouped together."
   ]
  },
  {
   "cell_type": "code",
   "execution_count": 76,
   "metadata": {},
   "outputs": [],
   "source": [
    "# Rename chargeoff and defaulted loans\n",
    "df['loan_status_description'].replace('CHARGEOFF','CHARGEOFF/DEFAULTED',inplace=True)\n",
    "df['loan_status_description'].replace('DEFAULTED','CHARGEOFF/DEFAULTED',inplace=True)\n",
    "\n",
    "# Drop CURRENT loans\n",
    "df2 = df[df['loan_status_description'] != 'CURRENT']"
   ]
  },
  {
   "cell_type": "code",
   "execution_count": 77,
   "metadata": {},
   "outputs": [
    {
     "data": {
      "text/plain": [
       "loan_status_description\n",
       "COMPLETED              788945\n",
       "CHARGEOFF/DEFAULTED    204271\n",
       "Name: count, dtype: int64"
      ]
     },
     "execution_count": 77,
     "metadata": {},
     "output_type": "execute_result"
    }
   ],
   "source": [
    "df2['loan_status_description'].value_counts()"
   ]
  },
  {
   "cell_type": "markdown",
   "metadata": {},
   "source": [
    "### Remove features for decision tree modelling"
   ]
  },
  {
   "cell_type": "code",
   "execution_count": 78,
   "metadata": {},
   "outputs": [],
   "source": [
    "df2 = df2.drop(columns=['origination_date', 'loan_number', 'data_source'])"
   ]
  },
  {
   "cell_type": "code",
   "execution_count": 79,
   "metadata": {
    "scrolled": false
   },
   "outputs": [
    {
     "data": {
      "text/html": [
       "<div>\n",
       "<style scoped>\n",
       "    .dataframe tbody tr th:only-of-type {\n",
       "        vertical-align: middle;\n",
       "    }\n",
       "\n",
       "    .dataframe tbody tr th {\n",
       "        vertical-align: top;\n",
       "    }\n",
       "\n",
       "    .dataframe thead th {\n",
       "        text-align: right;\n",
       "    }\n",
       "</style>\n",
       "<table border=\"1\" class=\"dataframe\">\n",
       "  <thead>\n",
       "    <tr style=\"text-align: right;\">\n",
       "      <th></th>\n",
       "      <th>amount_borrowed</th>\n",
       "      <th>term</th>\n",
       "      <th>borrower_rate</th>\n",
       "      <th>installment</th>\n",
       "      <th>grade</th>\n",
       "      <th>listing_title</th>\n",
       "      <th>loan_status_description</th>\n",
       "    </tr>\n",
       "  </thead>\n",
       "  <tbody>\n",
       "    <tr>\n",
       "      <th>0</th>\n",
       "      <td>27050.0</td>\n",
       "      <td>36</td>\n",
       "      <td>0.1099</td>\n",
       "      <td>885.46</td>\n",
       "      <td>B</td>\n",
       "      <td>debt_consolidation</td>\n",
       "      <td>COMPLETED</td>\n",
       "    </tr>\n",
       "    <tr>\n",
       "      <th>1</th>\n",
       "      <td>4800.0</td>\n",
       "      <td>36</td>\n",
       "      <td>0.1099</td>\n",
       "      <td>157.13</td>\n",
       "      <td>B</td>\n",
       "      <td>home_improvement</td>\n",
       "      <td>COMPLETED</td>\n",
       "    </tr>\n",
       "    <tr>\n",
       "      <th>2</th>\n",
       "      <td>12000.0</td>\n",
       "      <td>36</td>\n",
       "      <td>0.0762</td>\n",
       "      <td>373.94</td>\n",
       "      <td>A</td>\n",
       "      <td>debt_consolidation</td>\n",
       "      <td>COMPLETED</td>\n",
       "    </tr>\n",
       "    <tr>\n",
       "      <th>3</th>\n",
       "      <td>12000.0</td>\n",
       "      <td>36</td>\n",
       "      <td>0.1199</td>\n",
       "      <td>398.52</td>\n",
       "      <td>B</td>\n",
       "      <td>debt_consolidation</td>\n",
       "      <td>COMPLETED</td>\n",
       "    </tr>\n",
       "    <tr>\n",
       "      <th>4</th>\n",
       "      <td>12000.0</td>\n",
       "      <td>36</td>\n",
       "      <td>0.0662</td>\n",
       "      <td>368.45</td>\n",
       "      <td>A</td>\n",
       "      <td>debt_consolidation</td>\n",
       "      <td>COMPLETED</td>\n",
       "    </tr>\n",
       "  </tbody>\n",
       "</table>\n",
       "</div>"
      ],
      "text/plain": [
       "   amount_borrowed  term  borrower_rate  installment grade  \\\n",
       "0          27050.0    36         0.1099       885.46     B   \n",
       "1           4800.0    36         0.1099       157.13     B   \n",
       "2          12000.0    36         0.0762       373.94     A   \n",
       "3          12000.0    36         0.1199       398.52     B   \n",
       "4          12000.0    36         0.0662       368.45     A   \n",
       "\n",
       "        listing_title loan_status_description  \n",
       "0  debt_consolidation               COMPLETED  \n",
       "1    home_improvement               COMPLETED  \n",
       "2  debt_consolidation               COMPLETED  \n",
       "3  debt_consolidation               COMPLETED  \n",
       "4  debt_consolidation               COMPLETED  "
      ]
     },
     "execution_count": 79,
     "metadata": {},
     "output_type": "execute_result"
    }
   ],
   "source": [
    "df2.head()"
   ]
  },
  {
   "cell_type": "markdown",
   "metadata": {},
   "source": [
    "### Data transformation"
   ]
  },
  {
   "cell_type": "code",
   "execution_count": 81,
   "metadata": {},
   "outputs": [],
   "source": [
    "# transform categorical variables into numerical labels\n",
    "labelencoder = LabelEncoder()\n",
    "df2['grade'] = labelencoder.fit_transform(df2['grade'])\n",
    "df2['listing_title'] = labelencoder.fit_transform(df2['listing_title'])\n",
    "\n",
    "# 0 = chargeoff/default, 1 = completed\n",
    "df2['loan_status_description'] = labelencoder.fit_transform(df2['loan_status_description'])"
   ]
  },
  {
   "cell_type": "code",
   "execution_count": 82,
   "metadata": {},
   "outputs": [
    {
     "data": {
      "text/html": [
       "<div>\n",
       "<style scoped>\n",
       "    .dataframe tbody tr th:only-of-type {\n",
       "        vertical-align: middle;\n",
       "    }\n",
       "\n",
       "    .dataframe tbody tr th {\n",
       "        vertical-align: top;\n",
       "    }\n",
       "\n",
       "    .dataframe thead th {\n",
       "        text-align: right;\n",
       "    }\n",
       "</style>\n",
       "<table border=\"1\" class=\"dataframe\">\n",
       "  <thead>\n",
       "    <tr style=\"text-align: right;\">\n",
       "      <th></th>\n",
       "      <th>amount_borrowed</th>\n",
       "      <th>term</th>\n",
       "      <th>borrower_rate</th>\n",
       "      <th>installment</th>\n",
       "      <th>grade</th>\n",
       "      <th>listing_title</th>\n",
       "      <th>loan_status_description</th>\n",
       "    </tr>\n",
       "  </thead>\n",
       "  <tbody>\n",
       "    <tr>\n",
       "      <th>0</th>\n",
       "      <td>27050.0</td>\n",
       "      <td>36</td>\n",
       "      <td>0.1099</td>\n",
       "      <td>885.46</td>\n",
       "      <td>1</td>\n",
       "      <td>2</td>\n",
       "      <td>1</td>\n",
       "    </tr>\n",
       "    <tr>\n",
       "      <th>1</th>\n",
       "      <td>4800.0</td>\n",
       "      <td>36</td>\n",
       "      <td>0.1099</td>\n",
       "      <td>157.13</td>\n",
       "      <td>1</td>\n",
       "      <td>4</td>\n",
       "      <td>1</td>\n",
       "    </tr>\n",
       "    <tr>\n",
       "      <th>2</th>\n",
       "      <td>12000.0</td>\n",
       "      <td>36</td>\n",
       "      <td>0.0762</td>\n",
       "      <td>373.94</td>\n",
       "      <td>0</td>\n",
       "      <td>2</td>\n",
       "      <td>1</td>\n",
       "    </tr>\n",
       "    <tr>\n",
       "      <th>3</th>\n",
       "      <td>12000.0</td>\n",
       "      <td>36</td>\n",
       "      <td>0.1199</td>\n",
       "      <td>398.52</td>\n",
       "      <td>1</td>\n",
       "      <td>2</td>\n",
       "      <td>1</td>\n",
       "    </tr>\n",
       "    <tr>\n",
       "      <th>4</th>\n",
       "      <td>12000.0</td>\n",
       "      <td>36</td>\n",
       "      <td>0.0662</td>\n",
       "      <td>368.45</td>\n",
       "      <td>0</td>\n",
       "      <td>2</td>\n",
       "      <td>1</td>\n",
       "    </tr>\n",
       "  </tbody>\n",
       "</table>\n",
       "</div>"
      ],
      "text/plain": [
       "   amount_borrowed  term  borrower_rate  installment  grade  listing_title  \\\n",
       "0          27050.0    36         0.1099       885.46      1              2   \n",
       "1           4800.0    36         0.1099       157.13      1              4   \n",
       "2          12000.0    36         0.0762       373.94      0              2   \n",
       "3          12000.0    36         0.1199       398.52      1              2   \n",
       "4          12000.0    36         0.0662       368.45      0              2   \n",
       "\n",
       "   loan_status_description  \n",
       "0                        1  \n",
       "1                        1  \n",
       "2                        1  \n",
       "3                        1  \n",
       "4                        1  "
      ]
     },
     "execution_count": 82,
     "metadata": {},
     "output_type": "execute_result"
    }
   ],
   "source": [
    "df2.head()"
   ]
  },
  {
   "cell_type": "markdown",
   "metadata": {},
   "source": [
    "## Decision Tree 1\n",
    "Model loan default rates using all remaining variables.\n",
    "\n",
    "### Model Training"
   ]
  },
  {
   "cell_type": "code",
   "execution_count": 134,
   "metadata": {},
   "outputs": [],
   "source": [
    "# create 70/30 train test split\n",
    "x, y = df2.iloc[:, 0:5], df2.iloc[:,6]\n",
    "x_train, x_test, y_train, y_test = train_test_split(\n",
    "    x, y, test_size=0.3, random_state=57, stratify=y, shuffle=True)"
   ]
  },
  {
   "cell_type": "code",
   "execution_count": 135,
   "metadata": {},
   "outputs": [
    {
     "data": {
      "text/plain": [
       "loan_status_description\n",
       "1    552261\n",
       "0    142990\n",
       "Name: count, dtype: int64"
      ]
     },
     "execution_count": 135,
     "metadata": {},
     "output_type": "execute_result"
    }
   ],
   "source": [
    "y_train.value_counts()"
   ]
  },
  {
   "cell_type": "code",
   "execution_count": 136,
   "metadata": {},
   "outputs": [
    {
     "data": {
      "text/plain": [
       "loan_status_description\n",
       "1    236684\n",
       "0     61281\n",
       "Name: count, dtype: int64"
      ]
     },
     "execution_count": 136,
     "metadata": {},
     "output_type": "execute_result"
    }
   ],
   "source": [
    "y_test.value_counts()"
   ]
  },
  {
   "cell_type": "code",
   "execution_count": 137,
   "metadata": {
    "scrolled": true
   },
   "outputs": [
    {
     "data": {
      "text/html": [
       "<div>\n",
       "<style scoped>\n",
       "    .dataframe tbody tr th:only-of-type {\n",
       "        vertical-align: middle;\n",
       "    }\n",
       "\n",
       "    .dataframe tbody tr th {\n",
       "        vertical-align: top;\n",
       "    }\n",
       "\n",
       "    .dataframe thead th {\n",
       "        text-align: right;\n",
       "    }\n",
       "</style>\n",
       "<table border=\"1\" class=\"dataframe\">\n",
       "  <thead>\n",
       "    <tr style=\"text-align: right;\">\n",
       "      <th></th>\n",
       "      <th>amount_borrowed</th>\n",
       "      <th>term</th>\n",
       "      <th>borrower_rate</th>\n",
       "      <th>installment</th>\n",
       "      <th>grade</th>\n",
       "    </tr>\n",
       "  </thead>\n",
       "  <tbody>\n",
       "    <tr>\n",
       "      <th>875342</th>\n",
       "      <td>15000.0</td>\n",
       "      <td>60</td>\n",
       "      <td>0.0916</td>\n",
       "      <td>312.55</td>\n",
       "      <td>1</td>\n",
       "    </tr>\n",
       "    <tr>\n",
       "      <th>1277271</th>\n",
       "      <td>12000.0</td>\n",
       "      <td>60</td>\n",
       "      <td>0.2239</td>\n",
       "      <td>334.10</td>\n",
       "      <td>4</td>\n",
       "    </tr>\n",
       "    <tr>\n",
       "      <th>115783</th>\n",
       "      <td>6000.0</td>\n",
       "      <td>36</td>\n",
       "      <td>0.1849</td>\n",
       "      <td>218.40</td>\n",
       "      <td>3</td>\n",
       "    </tr>\n",
       "    <tr>\n",
       "      <th>117259</th>\n",
       "      <td>16000.0</td>\n",
       "      <td>36</td>\n",
       "      <td>0.1629</td>\n",
       "      <td>564.81</td>\n",
       "      <td>2</td>\n",
       "    </tr>\n",
       "    <tr>\n",
       "      <th>1074941</th>\n",
       "      <td>6000.0</td>\n",
       "      <td>36</td>\n",
       "      <td>0.1075</td>\n",
       "      <td>195.73</td>\n",
       "      <td>1</td>\n",
       "    </tr>\n",
       "  </tbody>\n",
       "</table>\n",
       "</div>"
      ],
      "text/plain": [
       "         amount_borrowed  term  borrower_rate  installment  grade\n",
       "875342           15000.0    60         0.0916       312.55      1\n",
       "1277271          12000.0    60         0.2239       334.10      4\n",
       "115783            6000.0    36         0.1849       218.40      3\n",
       "117259           16000.0    36         0.1629       564.81      2\n",
       "1074941           6000.0    36         0.1075       195.73      1"
      ]
     },
     "execution_count": 137,
     "metadata": {},
     "output_type": "execute_result"
    }
   ],
   "source": [
    "x_train.head()"
   ]
  },
  {
   "cell_type": "code",
   "execution_count": 138,
   "metadata": {},
   "outputs": [],
   "source": [
    "# create decision tree classifier\n",
    "clf = DecisionTreeClassifier(criterion='entropy',random_state=57)\n",
    "\n",
    "# train decision tree classifer\n",
    "clf = clf.fit(x_train, y_train)"
   ]
  },
  {
   "cell_type": "markdown",
   "metadata": {},
   "source": [
    "### Model Evaluation"
   ]
  },
  {
   "cell_type": "code",
   "execution_count": 139,
   "metadata": {},
   "outputs": [],
   "source": [
    "predictions = clf.predict(x_test)"
   ]
  },
  {
   "cell_type": "code",
   "execution_count": 140,
   "metadata": {
    "scrolled": true
   },
   "outputs": [
    {
     "data": {
      "text/plain": [
       "<sklearn.metrics._plot.confusion_matrix.ConfusionMatrixDisplay at 0x1a582843710>"
      ]
     },
     "execution_count": 140,
     "metadata": {},
     "output_type": "execute_result"
    },
    {
     "data": {
      "image/png": "[encoded data removed]",
      "text/plain": [
       "<Figure size 640x480 with 2 Axes>"
      ]
     },
     "metadata": {},
     "output_type": "display_data"
    }
   ],
   "source": [
    "# plot confusion matrix\n",
    "cm = confusion_matrix(y_test, predictions, labels=clf.classes_)\n",
    "disp = ConfusionMatrixDisplay(confusion_matrix=cm, display_labels=clf.classes_)\n",
    "disp.plot()"
   ]
  },
  {
   "cell_type": "code",
   "execution_count": 141,
   "metadata": {},
   "outputs": [
    {
     "data": {
      "text/plain": [
       "(9515, 51766, 17344, 219340)"
      ]
     },
     "execution_count": 141,
     "metadata": {},
     "output_type": "execute_result"
    }
   ],
   "source": [
    "# Extract true/false positives/negatives\n",
    "tn, fp, fn, tp = cm.ravel().tolist()\n",
    "(tn, fp, fn, tp)"
   ]
  },
  {
   "cell_type": "code",
   "execution_count": 142,
   "metadata": {},
   "outputs": [
    {
     "name": "stdout",
     "output_type": "stream",
     "text": [
      "0.9267208598806848\n",
      "0.15526835397594688\n"
     ]
    }
   ],
   "source": [
    "# Sensitivity: the ability of a test to correctly identify loans that will default.\n",
    "sensitivity = tp/(tp+fn)\n",
    "\n",
    "# Specificity: the ability of a test to correctly identify loans that will complete\n",
    "# (Without default).\n",
    "specificity = tn/(tn+fp)\n",
    "\n",
    "print(sensitivity)\n",
    "print(specificity)"
   ]
  },
  {
   "cell_type": "markdown",
   "metadata": {},
   "source": [
    "#### Interpretation\n",
    "For the purposes of credit risk evaluation, we are most interested in accurately predicting when loans will default (ie. true negatives). Therefore, **specificity** is the most important metric.\n",
    "\n",
    "This decision tree has a high **sensitivity** score of 0.927, meaning it performs well at predicting when loans will be completed (true positives). \n",
    "\n",
    "However, its low **specificity** score of 0.155 shows that it is unfortunately a very poor predictor of when loans will default. Indeed, the model produced far fewer true negatives than false positives (9,515 vs 51,766). This model has a lot of room for improvement.\n",
    "\n",
    "#### Next steps\n",
    "1. Features that are highly correlated could be omitted, since including both `amount_borrowed` and `installment` for instance would be redundant and result in overweighting certain underlying factors.\n",
    "2. Features that are not correlated with the target (`loan_status_description`) can be omitted as well.\n",
    "3. Look for additional data/features from Lending Club to include."
   ]
  },
  {
   "cell_type": "markdown",
   "metadata": {},
   "source": [
    "## Additional Exploration\n",
    "\n",
    "Before training and evaluating more models, try further evaluating the data."
   ]
  },
  {
   "cell_type": "code",
   "execution_count": 105,
   "metadata": {
    "scrolled": true
   },
   "outputs": [
    {
     "data": {
      "text/plain": [
       "amount_borrowed            7.411993e+07\n",
       "term                       1.049279e+02\n",
       "borrower_rate              2.234221e-03\n",
       "installment                6.712840e+04\n",
       "grade                      1.712471e+00\n",
       "listing_title              5.317693e+00\n",
       "loan_status_description    1.633678e-01\n",
       "dtype: float64"
      ]
     },
     "execution_count": 105,
     "metadata": {},
     "output_type": "execute_result"
    }
   ],
   "source": [
    "# variance of each feature\n",
    "df2.var()"
   ]
  },
  {
   "cell_type": "markdown",
   "metadata": {},
   "source": [
    "Variance isn't the best indicator because its magnitude depends on the magnitude of the observations for each variable. However, since `borrower_rate`'s variance is comparatively very small, it may be worth omitting."
   ]
  },
  {
   "cell_type": "code",
   "execution_count": 106,
   "metadata": {},
   "outputs": [],
   "source": [
    "import statsmodels as sm\n",
    "from statsmodels.stats.outliers_influence import variance_inflation_factor"
   ]
  },
  {
   "cell_type": "code",
   "execution_count": 108,
   "metadata": {
    "scrolled": false
   },
   "outputs": [
    {
     "name": "stdout",
     "output_type": "stream",
     "text": [
      "amount_borrowed: 143.80819784751017\n",
      "term: 53.78005574495685\n",
      "borrower_rate: 104.86322582478347\n",
      "installment: 126.04360902016617\n",
      "grade: 25.751539601810038\n",
      "listing_title: 2.357175343983948\n"
     ]
    }
   ],
   "source": [
    "# VIF\n",
    "for i in range(6): \n",
    "    print(str(df2.columns[i]) + \": \" + str(variance_inflation_factor(df2, i)))"
   ]
  },
  {
   "cell_type": "markdown",
   "metadata": {},
   "source": [
    "`amount_borrowed`, `borrower_rate`, and `installment` all have very high VIF values, so consider omitting some or all of these variables. "
   ]
  },
  {
   "cell_type": "markdown",
   "metadata": {},
   "source": [
    "## Decision Tree 2"
   ]
  },
  {
   "cell_type": "code",
   "execution_count": 109,
   "metadata": {},
   "outputs": [
    {
     "data": {
      "text/html": [
       "<div>\n",
       "<style scoped>\n",
       "    .dataframe tbody tr th:only-of-type {\n",
       "        vertical-align: middle;\n",
       "    }\n",
       "\n",
       "    .dataframe tbody tr th {\n",
       "        vertical-align: top;\n",
       "    }\n",
       "\n",
       "    .dataframe thead th {\n",
       "        text-align: right;\n",
       "    }\n",
       "</style>\n",
       "<table border=\"1\" class=\"dataframe\">\n",
       "  <thead>\n",
       "    <tr style=\"text-align: right;\">\n",
       "      <th></th>\n",
       "      <th>term</th>\n",
       "      <th>installment</th>\n",
       "      <th>grade</th>\n",
       "      <th>listing_title</th>\n",
       "      <th>loan_status_description</th>\n",
       "    </tr>\n",
       "  </thead>\n",
       "  <tbody>\n",
       "    <tr>\n",
       "      <th>0</th>\n",
       "      <td>36</td>\n",
       "      <td>885.46</td>\n",
       "      <td>1</td>\n",
       "      <td>2</td>\n",
       "      <td>1</td>\n",
       "    </tr>\n",
       "    <tr>\n",
       "      <th>1</th>\n",
       "      <td>36</td>\n",
       "      <td>157.13</td>\n",
       "      <td>1</td>\n",
       "      <td>4</td>\n",
       "      <td>1</td>\n",
       "    </tr>\n",
       "    <tr>\n",
       "      <th>2</th>\n",
       "      <td>36</td>\n",
       "      <td>373.94</td>\n",
       "      <td>0</td>\n",
       "      <td>2</td>\n",
       "      <td>1</td>\n",
       "    </tr>\n",
       "    <tr>\n",
       "      <th>3</th>\n",
       "      <td>36</td>\n",
       "      <td>398.52</td>\n",
       "      <td>1</td>\n",
       "      <td>2</td>\n",
       "      <td>1</td>\n",
       "    </tr>\n",
       "    <tr>\n",
       "      <th>4</th>\n",
       "      <td>36</td>\n",
       "      <td>368.45</td>\n",
       "      <td>0</td>\n",
       "      <td>2</td>\n",
       "      <td>1</td>\n",
       "    </tr>\n",
       "  </tbody>\n",
       "</table>\n",
       "</div>"
      ],
      "text/plain": [
       "   term  installment  grade  listing_title  loan_status_description\n",
       "0    36       885.46      1              2                        1\n",
       "1    36       157.13      1              4                        1\n",
       "2    36       373.94      0              2                        1\n",
       "3    36       398.52      1              2                        1\n",
       "4    36       368.45      0              2                        1"
      ]
     },
     "execution_count": 109,
     "metadata": {},
     "output_type": "execute_result"
    }
   ],
   "source": [
    "# Remove features\n",
    "df3 = df2.drop(columns=['borrower_rate', 'amount_borrowed'])\n",
    "df3.head()"
   ]
  },
  {
   "cell_type": "code",
   "execution_count": 110,
   "metadata": {},
   "outputs": [],
   "source": [
    "# Split testing and training sets\n",
    "x2, y2 = df3.iloc[:, 0:3], df3.iloc[:,4]\n",
    "x_train2, x_test2, y_train2, y_test2 = train_test_split(x2, y2, test_size=0.3, random_state=57, stratify=y, shuffle=True)"
   ]
  },
  {
   "cell_type": "code",
   "execution_count": 113,
   "metadata": {},
   "outputs": [],
   "source": [
    "# Create and train Decision Tree classifer object\n",
    "clf2 = DecisionTreeClassifier(criterion='entropy',random_state=57)\n",
    "clf2 = clf2.fit(x_train2, y_train2)\n",
    "\n",
    "# Make predictions\n",
    "predictions2 = clf2.predict(x_test2)"
   ]
  },
  {
   "cell_type": "code",
   "execution_count": 114,
   "metadata": {},
   "outputs": [
    {
     "name": "stdout",
     "output_type": "stream",
     "text": [
      "0.9284784776326241\n",
      "0.1515967428729949\n"
     ]
    }
   ],
   "source": [
    "# Confusion matrix\n",
    "cm2 = confusion_matrix(y_test2, predictions2, labels=clf2.classes_)\n",
    "\n",
    "tn2, fp2, fn2, tp2 = cm2.ravel().tolist()\n",
    "\n",
    "sensitivity2 = tp2/(tp2+fn2)\n",
    "specificity2 = tn2/(tn2+fp2)\n",
    "\n",
    "print(sensitivity2)\n",
    "print(specificity2)"
   ]
  },
  {
   "cell_type": "code",
   "execution_count": 115,
   "metadata": {
    "scrolled": true
   },
   "outputs": [
    {
     "data": {
      "text/plain": [
       "<sklearn.metrics._plot.confusion_matrix.ConfusionMatrixDisplay at 0x1a582c956d0>"
      ]
     },
     "execution_count": 115,
     "metadata": {},
     "output_type": "execute_result"
    },
    {
     "data": {
      "image/png": "[encoded data removed]",
      "text/plain": [
       "<Figure size 640x480 with 2 Axes>"
      ]
     },
     "metadata": {},
     "output_type": "display_data"
    }
   ],
   "source": [
    "# Plot confusion matrix\n",
    "disp2 = ConfusionMatrixDisplay(confusion_matrix=cm2,\n",
    "                              display_labels=clf2.classes_)\n",
    "disp2.plot()"
   ]
  },
  {
   "cell_type": "markdown",
   "metadata": {},
   "source": [
    "For this decision tree, I chose to omit `borrower_rate` because it had both a very low variance and a very high VIF value. \n",
    "\n",
    "I also omitted `amount_borrowed` because it has a high VIF value and is also highly correlated with `installment`, which is a feature that I chose to keep for now. \n",
    "\n",
    "Unfortunately, this model performs about as poorly as the previous model, if not worse; its specificity and sensitivity scores are almost identical to before."
   ]
  },
  {
   "cell_type": "markdown",
   "metadata": {},
   "source": [
    "## Decision Tree 3\n",
    "\n",
    "### Feature Summary\n",
    "Below is a summary of all my observations about the features so far:\n",
    "* `amount_borrowed` and `installment` are highly correlated\n",
    "* `amount_borrowed` and `term` are somewhat correlated\n",
    "* `term` and `borrower_rate` are somewhat correlated\n",
    "* These variables have very low variances: `borrower_rate`, `grade`, `listing_title`\n",
    "* These variables have the highest VIF values (in descending order): `amount_borrowed`, `borrower_rate`, `installment`\n",
    "* `listing_title` has the lowest VIF by far."
   ]
  },
  {
   "cell_type": "code",
   "execution_count": 117,
   "metadata": {
    "scrolled": true
   },
   "outputs": [
    {
     "name": "stdout",
     "output_type": "stream",
     "text": [
      "                         amount_borrowed      term  borrower_rate  \\\n",
      "amount_borrowed                 1.000000  0.388026       0.144652   \n",
      "term                            0.388026  1.000000       0.423336   \n",
      "borrower_rate                   0.144652  0.423336       1.000000   \n",
      "installment                     0.954027  0.148953       0.153271   \n",
      "grade                           0.146927  0.434264       0.955366   \n",
      "listing_title                  -0.148622 -0.051438       0.134936   \n",
      "loan_status_description        -0.062028 -0.176599      -0.252553   \n",
      "\n",
      "                         installment     grade  listing_title  \\\n",
      "amount_borrowed             0.954027  0.146927      -0.148622   \n",
      "term                        0.148953  0.434264      -0.051438   \n",
      "borrower_rate               0.153271  0.955366       0.134936   \n",
      "installment                 1.000000  0.145706      -0.131103   \n",
      "grade                       0.145706  1.000000       0.137403   \n",
      "listing_title              -0.131103  0.137403       1.000000   \n",
      "loan_status_description    -0.046690 -0.263389      -0.019710   \n",
      "\n",
      "                         loan_status_description  \n",
      "amount_borrowed                        -0.062028  \n",
      "term                                   -0.176599  \n",
      "borrower_rate                          -0.252553  \n",
      "installment                            -0.046690  \n",
      "grade                                  -0.263389  \n",
      "listing_title                          -0.019710  \n",
      "loan_status_description                 1.000000  \n"
     ]
    }
   ],
   "source": [
    "# Compute correlations of features with loan description\n",
    "corrs = df2.corr(numeric_only=True)\n",
    "print(corrs)"
   ]
  },
  {
   "cell_type": "markdown",
   "metadata": {},
   "source": [
    "None of these features are very strongly correlated with the target (`loan_status_description`), but `listing_title`, `amount_borrowed` and `installment` are by far the least correlated with the target."
   ]
  },
  {
   "cell_type": "code",
   "execution_count": 118,
   "metadata": {},
   "outputs": [
    {
     "data": {
      "text/html": [
       "<div>\n",
       "<style scoped>\n",
       "    .dataframe tbody tr th:only-of-type {\n",
       "        vertical-align: middle;\n",
       "    }\n",
       "\n",
       "    .dataframe tbody tr th {\n",
       "        vertical-align: top;\n",
       "    }\n",
       "\n",
       "    .dataframe thead th {\n",
       "        text-align: right;\n",
       "    }\n",
       "</style>\n",
       "<table border=\"1\" class=\"dataframe\">\n",
       "  <thead>\n",
       "    <tr style=\"text-align: right;\">\n",
       "      <th></th>\n",
       "      <th>term</th>\n",
       "      <th>grade</th>\n",
       "      <th>listing_title</th>\n",
       "      <th>loan_status_description</th>\n",
       "    </tr>\n",
       "  </thead>\n",
       "  <tbody>\n",
       "    <tr>\n",
       "      <th>0</th>\n",
       "      <td>36</td>\n",
       "      <td>1</td>\n",
       "      <td>2</td>\n",
       "      <td>1</td>\n",
       "    </tr>\n",
       "    <tr>\n",
       "      <th>1</th>\n",
       "      <td>36</td>\n",
       "      <td>1</td>\n",
       "      <td>4</td>\n",
       "      <td>1</td>\n",
       "    </tr>\n",
       "    <tr>\n",
       "      <th>2</th>\n",
       "      <td>36</td>\n",
       "      <td>0</td>\n",
       "      <td>2</td>\n",
       "      <td>1</td>\n",
       "    </tr>\n",
       "    <tr>\n",
       "      <th>3</th>\n",
       "      <td>36</td>\n",
       "      <td>1</td>\n",
       "      <td>2</td>\n",
       "      <td>1</td>\n",
       "    </tr>\n",
       "    <tr>\n",
       "      <th>4</th>\n",
       "      <td>36</td>\n",
       "      <td>0</td>\n",
       "      <td>2</td>\n",
       "      <td>1</td>\n",
       "    </tr>\n",
       "  </tbody>\n",
       "</table>\n",
       "</div>"
      ],
      "text/plain": [
       "   term  grade  listing_title  loan_status_description\n",
       "0    36      1              2                        1\n",
       "1    36      1              4                        1\n",
       "2    36      0              2                        1\n",
       "3    36      1              2                        1\n",
       "4    36      0              2                        1"
      ]
     },
     "execution_count": 118,
     "metadata": {},
     "output_type": "execute_result"
    }
   ],
   "source": [
    "# Select features \n",
    "df4 = df2.drop(columns=['borrower_rate', 'amount_borrowed', 'installment'])\n",
    "df4.head()"
   ]
  },
  {
   "cell_type": "code",
   "execution_count": 119,
   "metadata": {},
   "outputs": [],
   "source": [
    "# Split testing and training sets\n",
    "x3, y3 = df4.iloc[:, 0:2], df4.iloc[:, 3]\n",
    "x_train3, x_test3, y_train3, y_test3 = train_test_split(x3, y3, test_size=0.3, random_state=57, stratify=y, shuffle=True)"
   ]
  },
  {
   "cell_type": "code",
   "execution_count": 121,
   "metadata": {},
   "outputs": [],
   "source": [
    "# Create and train Decision Tree classifer object\n",
    "clf3 = DecisionTreeClassifier(criterion='entropy',random_state=42)\n",
    "clf3 = clf3.fit(x_train3, y_train3)\n",
    "\n",
    "# Make predictions\n",
    "predictions3 = clf3.predict(x_test3)"
   ]
  },
  {
   "cell_type": "code",
   "execution_count": 122,
   "metadata": {},
   "outputs": [
    {
     "name": "stdout",
     "output_type": "stream",
     "text": [
      "0.9962566121917832\n",
      "0.014278487622591015\n"
     ]
    }
   ],
   "source": [
    "# Confusion matrix\n",
    "cm3 = confusion_matrix(y_test3, predictions3, labels=clf3.classes_)\n",
    "\n",
    "tn3, fp3, fn3, tp3 = cm3.ravel().tolist()\n",
    "\n",
    "sensitivity3 = tp3/(tp3+fn3)\n",
    "specificity3 = tn3/(tn3+fp3)\n",
    "\n",
    "print(sensitivity3)\n",
    "print(specificity3)"
   ]
  },
  {
   "cell_type": "code",
   "execution_count": 123,
   "metadata": {},
   "outputs": [
    {
     "data": {
      "text/plain": [
       "<sklearn.metrics._plot.confusion_matrix.ConfusionMatrixDisplay at 0x1a582c81150>"
      ]
     },
     "execution_count": 123,
     "metadata": {},
     "output_type": "execute_result"
    },
    {
     "data": {
      "image/png": "[encoded data removed]",
      "text/plain": [
       "<Figure size 640x480 with 2 Axes>"
      ]
     },
     "metadata": {},
     "output_type": "display_data"
    }
   ],
   "source": [
    "# Plot confusion matrix\n",
    "disp3 = ConfusionMatrixDisplay(confusion_matrix=cm3,\n",
    "                              display_labels=clf3.classes_)\n",
    "disp3.plot()"
   ]
  },
  {
   "cell_type": "markdown",
   "metadata": {},
   "source": [
    "### Explanation and Evaluation\n",
    "Once again, I chose to omit `borrower_rate` and `amount_borrowed` for both the reasons stated before and the fact that the latter is barely correlated with the target. I also omitted `installment` due to its high VIF and low correlation with the target.\n",
    "\n",
    "This model had an almost perfect sensitivity score, yet much lower specificity score than the previous two. In other words, this decision tree is the worst at predicting which loan will **default**.\n",
    "\n",
    "### Suggestions for Further Improvement\n",
    "One glaring issue with the data provided is that none of the features are really correlated with the target. In fact, the highest correlation between any feature and `loan_status_description` was only 26.3%. If possible, finding data for features that are actually correlated with the target could significantly improve the quality of a decision tree model.\n",
    "\n",
    "Additionally, of the 6 features available, 2 of them are explicitly treated as categorical variables (`grade` and `listing_title`). Since `term` can only take on 2 distinct values, it also acts similarly to a categorical variable. This means there are 3 features that will have a very low correlation no matter what. \n",
    "\n",
    "A potential solution is to scale the quantitative features (`amount_borrowed`, `borrower_magnitude`, and `installment`) so that their values are in a similar range as the categorical features. For instance, an index could be constructed for `borrower_rate`, or `amount_borrowed` could be normalized. This latter suggestion could also help deal with the significant number of outlier observations for `amount_borrowed`.\n",
    "\n",
    "Finally, it is possible that decision trees are not ideal for predicting credit risk, and it may be more worthwhile to explore other types of models. "
   ]
  }
 ],
 "metadata": {
  "kernelspec": {
   "display_name": "Python 3 (ipykernel)",
   "language": "python",
   "name": "python3"
  },
  "language_info": {
   "codemirror_mode": {
    "name": "ipython",
    "version": 3
   },
   "file_extension": ".py",
   "mimetype": "text/x-python",
   "name": "python",
   "nbconvert_exporter": "python",
   "pygments_lexer": "ipython3",
   "version": "3.11.5"
  }
 },
 "nbformat": 4,
 "nbformat_minor": 4
}
